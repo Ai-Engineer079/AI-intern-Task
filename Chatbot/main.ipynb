{
 "cells": [
  {
   "cell_type": "code",
   "execution_count": 7,
   "metadata": {},
   "outputs": [
    {
     "name": "stdout",
     "output_type": "stream",
     "text": [
      "Processing c:\\users\\wajiz.pk\\desktop\\ai intern task\\chatbot\\en_core_web_md-3.5.0.tar.gz\n",
      "  Preparing metadata (setup.py): started\n",
      "  Preparing metadata (setup.py): finished with status 'done'\n",
      "Collecting spacy<3.6.0,>=3.5.0 (from en_core_web_md==3.5.0)\n",
      "  Using cached spacy-3.5.4-cp310-cp310-win_amd64.whl.metadata (25 kB)\n",
      "Requirement already satisfied: spacy-legacy<3.1.0,>=3.0.11 in c:\\users\\wajiz.pk\\anaconda3\\envs\\py310\\lib\\site-packages (from spacy<3.6.0,>=3.5.0->en_core_web_md==3.5.0) (3.0.12)\n",
      "Requirement already satisfied: spacy-loggers<2.0.0,>=1.0.0 in c:\\users\\wajiz.pk\\anaconda3\\envs\\py310\\lib\\site-packages (from spacy<3.6.0,>=3.5.0->en_core_web_md==3.5.0) (1.0.5)\n",
      "Requirement already satisfied: murmurhash<1.1.0,>=0.28.0 in c:\\users\\wajiz.pk\\anaconda3\\envs\\py310\\lib\\site-packages (from spacy<3.6.0,>=3.5.0->en_core_web_md==3.5.0) (1.0.11)\n",
      "Requirement already satisfied: cymem<2.1.0,>=2.0.2 in c:\\users\\wajiz.pk\\anaconda3\\envs\\py310\\lib\\site-packages (from spacy<3.6.0,>=3.5.0->en_core_web_md==3.5.0) (2.0.10)\n",
      "Requirement already satisfied: preshed<3.1.0,>=3.0.2 in c:\\users\\wajiz.pk\\anaconda3\\envs\\py310\\lib\\site-packages (from spacy<3.6.0,>=3.5.0->en_core_web_md==3.5.0) (3.0.9)\n",
      "Collecting thinc<8.2.0,>=8.1.8 (from spacy<3.6.0,>=3.5.0->en_core_web_md==3.5.0)\n",
      "  Using cached thinc-8.1.12-cp310-cp310-win_amd64.whl.metadata (15 kB)\n",
      "Requirement already satisfied: wasabi<1.2.0,>=0.9.1 in c:\\users\\wajiz.pk\\anaconda3\\envs\\py310\\lib\\site-packages (from spacy<3.6.0,>=3.5.0->en_core_web_md==3.5.0) (1.1.3)\n",
      "Requirement already satisfied: srsly<3.0.0,>=2.4.3 in c:\\users\\wajiz.pk\\anaconda3\\envs\\py310\\lib\\site-packages (from spacy<3.6.0,>=3.5.0->en_core_web_md==3.5.0) (2.5.0)\n",
      "Requirement already satisfied: catalogue<2.1.0,>=2.0.6 in c:\\users\\wajiz.pk\\anaconda3\\envs\\py310\\lib\\site-packages (from spacy<3.6.0,>=3.5.0->en_core_web_md==3.5.0) (2.0.10)\n",
      "Collecting typer<0.10.0,>=0.3.0 (from spacy<3.6.0,>=3.5.0->en_core_web_md==3.5.0)\n",
      "  Using cached typer-0.9.4-py3-none-any.whl.metadata (14 kB)\n",
      "Requirement already satisfied: pathy>=0.10.0 in c:\\users\\wajiz.pk\\anaconda3\\envs\\py310\\lib\\site-packages (from spacy<3.6.0,>=3.5.0->en_core_web_md==3.5.0) (0.11.0)\n",
      "Requirement already satisfied: smart-open<7.0.0,>=5.2.1 in c:\\users\\wajiz.pk\\anaconda3\\envs\\py310\\lib\\site-packages (from spacy<3.6.0,>=3.5.0->en_core_web_md==3.5.0) (6.4.0)\n",
      "Requirement already satisfied: tqdm<5.0.0,>=4.38.0 in c:\\users\\wajiz.pk\\anaconda3\\envs\\py310\\lib\\site-packages (from spacy<3.6.0,>=3.5.0->en_core_web_md==3.5.0) (4.67.1)\n",
      "Requirement already satisfied: numpy>=1.15.0 in c:\\users\\wajiz.pk\\anaconda3\\envs\\py310\\lib\\site-packages (from spacy<3.6.0,>=3.5.0->en_core_web_md==3.5.0) (1.24.3)\n",
      "Requirement already satisfied: requests<3.0.0,>=2.13.0 in c:\\users\\wajiz.pk\\anaconda3\\envs\\py310\\lib\\site-packages (from spacy<3.6.0,>=3.5.0->en_core_web_md==3.5.0) (2.32.3)\n",
      "Collecting pydantic!=1.8,!=1.8.1,<1.11.0,>=1.7.4 (from spacy<3.6.0,>=3.5.0->en_core_web_md==3.5.0)\n",
      "  Using cached pydantic-1.10.21-cp310-cp310-win_amd64.whl.metadata (155 kB)\n",
      "Requirement already satisfied: jinja2 in c:\\users\\wajiz.pk\\anaconda3\\envs\\py310\\lib\\site-packages (from spacy<3.6.0,>=3.5.0->en_core_web_md==3.5.0) (3.1.4)\n",
      "Requirement already satisfied: setuptools in c:\\users\\wajiz.pk\\anaconda3\\envs\\py310\\lib\\site-packages (from spacy<3.6.0,>=3.5.0->en_core_web_md==3.5.0) (75.1.0)\n",
      "Requirement already satisfied: packaging>=20.0 in c:\\users\\wajiz.pk\\anaconda3\\envs\\py310\\lib\\site-packages (from spacy<3.6.0,>=3.5.0->en_core_web_md==3.5.0) (24.2)\n",
      "Requirement already satisfied: langcodes<4.0.0,>=3.2.0 in c:\\users\\wajiz.pk\\anaconda3\\envs\\py310\\lib\\site-packages (from spacy<3.6.0,>=3.5.0->en_core_web_md==3.5.0) (3.5.0)\n",
      "Requirement already satisfied: language-data>=1.2 in c:\\users\\wajiz.pk\\anaconda3\\envs\\py310\\lib\\site-packages (from langcodes<4.0.0,>=3.2.0->spacy<3.6.0,>=3.5.0->en_core_web_md==3.5.0) (1.3.0)\n",
      "Requirement already satisfied: pathlib-abc==0.1.1 in c:\\users\\wajiz.pk\\anaconda3\\envs\\py310\\lib\\site-packages (from pathy>=0.10.0->spacy<3.6.0,>=3.5.0->en_core_web_md==3.5.0) (0.1.1)\n",
      "Requirement already satisfied: typing-extensions>=4.2.0 in c:\\users\\wajiz.pk\\anaconda3\\envs\\py310\\lib\\site-packages (from pydantic!=1.8,!=1.8.1,<1.11.0,>=1.7.4->spacy<3.6.0,>=3.5.0->en_core_web_md==3.5.0) (4.12.2)\n",
      "Requirement already satisfied: charset-normalizer<4,>=2 in c:\\users\\wajiz.pk\\anaconda3\\envs\\py310\\lib\\site-packages (from requests<3.0.0,>=2.13.0->spacy<3.6.0,>=3.5.0->en_core_web_md==3.5.0) (3.4.0)\n",
      "Requirement already satisfied: idna<4,>=2.5 in c:\\users\\wajiz.pk\\anaconda3\\envs\\py310\\lib\\site-packages (from requests<3.0.0,>=2.13.0->spacy<3.6.0,>=3.5.0->en_core_web_md==3.5.0) (3.10)\n",
      "Requirement already satisfied: urllib3<3,>=1.21.1 in c:\\users\\wajiz.pk\\anaconda3\\envs\\py310\\lib\\site-packages (from requests<3.0.0,>=2.13.0->spacy<3.6.0,>=3.5.0->en_core_web_md==3.5.0) (2.2.3)\n",
      "Requirement already satisfied: certifi>=2017.4.17 in c:\\users\\wajiz.pk\\anaconda3\\envs\\py310\\lib\\site-packages (from requests<3.0.0,>=2.13.0->spacy<3.6.0,>=3.5.0->en_core_web_md==3.5.0) (2024.8.30)\n",
      "Collecting blis<0.8.0,>=0.7.8 (from thinc<8.2.0,>=8.1.8->spacy<3.6.0,>=3.5.0->en_core_web_md==3.5.0)\n",
      "  Using cached blis-0.7.11-cp310-cp310-win_amd64.whl.metadata (7.6 kB)\n",
      "Requirement already satisfied: confection<1.0.0,>=0.0.1 in c:\\users\\wajiz.pk\\anaconda3\\envs\\py310\\lib\\site-packages (from thinc<8.2.0,>=8.1.8->spacy<3.6.0,>=3.5.0->en_core_web_md==3.5.0) (0.1.5)\n",
      "Requirement already satisfied: colorama in c:\\users\\wajiz.pk\\anaconda3\\envs\\py310\\lib\\site-packages (from tqdm<5.0.0,>=4.38.0->spacy<3.6.0,>=3.5.0->en_core_web_md==3.5.0) (0.4.6)\n",
      "Requirement already satisfied: click<9.0.0,>=7.1.1 in c:\\users\\wajiz.pk\\anaconda3\\envs\\py310\\lib\\site-packages (from typer<0.10.0,>=0.3.0->spacy<3.6.0,>=3.5.0->en_core_web_md==3.5.0) (8.1.7)\n",
      "Requirement already satisfied: MarkupSafe>=2.0 in c:\\users\\wajiz.pk\\anaconda3\\envs\\py310\\lib\\site-packages (from jinja2->spacy<3.6.0,>=3.5.0->en_core_web_md==3.5.0) (2.1.5)\n",
      "Requirement already satisfied: marisa-trie>=1.1.0 in c:\\users\\wajiz.pk\\anaconda3\\envs\\py310\\lib\\site-packages (from language-data>=1.2->langcodes<4.0.0,>=3.2.0->spacy<3.6.0,>=3.5.0->en_core_web_md==3.5.0) (1.2.1)\n",
      "Using cached spacy-3.5.4-cp310-cp310-win_amd64.whl (12.2 MB)\n",
      "Using cached pydantic-1.10.21-cp310-cp310-win_amd64.whl (2.3 MB)\n",
      "Using cached thinc-8.1.12-cp310-cp310-win_amd64.whl (1.5 MB)\n",
      "Using cached typer-0.9.4-py3-none-any.whl (45 kB)\n",
      "Using cached blis-0.7.11-cp310-cp310-win_amd64.whl (6.6 MB)\n",
      "Building wheels for collected packages: en_core_web_md\n",
      "  Building wheel for en_core_web_md (setup.py): started\n",
      "  Building wheel for en_core_web_md (setup.py): finished with status 'done'\n",
      "  Created wheel for en_core_web_md: filename=en_core_web_md-3.5.0-py3-none-any.whl size=42778850 sha256=b98c22d7f89e9fe8cb4a791dacec979d5c52de82a3866b7ca83f4405bb018436\n",
      "  Stored in directory: c:\\users\\wajiz.pk\\appdata\\local\\pip\\cache\\wheels\\19\\7a\\af\\675ecb34b4e23ab687316cb25676d396303fca2a70862f2076\n",
      "Successfully built en_core_web_md\n",
      "Installing collected packages: pydantic, blis, typer, thinc, spacy, en_core_web_md\n",
      "  Attempting uninstall: pydantic\n",
      "    Found existing installation: pydantic 2.10.5\n",
      "    Uninstalling pydantic-2.10.5:\n",
      "      Successfully uninstalled pydantic-2.10.5\n",
      "  Attempting uninstall: blis\n",
      "    Found existing installation: blis 1.2.0\n",
      "    Uninstalling blis-1.2.0:\n",
      "      Successfully uninstalled blis-1.2.0\n",
      "  Attempting uninstall: typer\n",
      "    Found existing installation: typer 0.15.1\n",
      "    Uninstalling typer-0.15.1:\n",
      "      Successfully uninstalled typer-0.15.1\n",
      "  Attempting uninstall: thinc\n",
      "    Found existing installation: thinc 8.3.4\n",
      "    Uninstalling thinc-8.3.4:\n",
      "      Successfully uninstalled thinc-8.3.4\n",
      "  Attempting uninstall: spacy\n",
      "    Found existing installation: spacy 3.8.4\n",
      "    Uninstalling spacy-3.8.4:\n",
      "      Successfully uninstalled spacy-3.8.4\n",
      "  Attempting uninstall: en_core_web_md\n",
      "    Found existing installation: en_core_web_md 3.5.0\n",
      "    Uninstalling en_core_web_md-3.5.0:\n",
      "      Successfully uninstalled en_core_web_md-3.5.0\n",
      "Successfully installed blis-0.7.11 en_core_web_md-3.5.0 pydantic-1.10.21 spacy-3.5.4 thinc-8.1.12 typer-0.9.4\n"
     ]
    },
    {
     "name": "stderr",
     "output_type": "stream",
     "text": [
      "  WARNING: Failed to remove contents in a temporary directory 'C:\\Users\\wajiz.pk\\anaconda3\\envs\\py310\\Lib\\site-packages\\~-is'.\n",
      "  You can safely remove it manually.\n",
      "  WARNING: Failed to remove contents in a temporary directory 'C:\\Users\\wajiz.pk\\anaconda3\\envs\\py310\\Lib\\site-packages\\~-inc'.\n",
      "  You can safely remove it manually.\n",
      "  WARNING: Failed to remove contents in a temporary directory 'C:\\Users\\wajiz.pk\\anaconda3\\envs\\py310\\Lib\\site-packages\\~-acy'.\n",
      "  You can safely remove it manually.\n",
      "ERROR: pip's dependency resolver does not currently take into account all the packages that are installed. This behaviour is the source of the following dependency conflicts.\n",
      "gradio 5.7.0 requires pydantic>=2.0, but you have pydantic 1.10.21 which is incompatible.\n",
      "gradio 5.7.0 requires typer<1.0,>=0.12; sys_platform != \"emscripten\", but you have typer 0.9.4 which is incompatible.\n",
      "langchain 0.3.9 requires pydantic<3.0.0,>=2.7.4, but you have pydantic 1.10.21 which is incompatible.\n",
      "langchain-core 0.3.21 requires pydantic<3.0.0,>=2.5.2; python_full_version < \"3.12.4\", but you have pydantic 1.10.21 which is incompatible.\n",
      "pydantic-settings 2.6.1 requires pydantic>=2.7.0, but you have pydantic 1.10.21 which is incompatible.\n"
     ]
    }
   ],
   "source": [
    "!pip install en_core_web_md-3.5.0.tar.gz\n"
   ]
  },
  {
   "cell_type": "code",
   "execution_count": null,
   "metadata": {},
   "outputs": [
    {
     "ename": "",
     "evalue": "",
     "output_type": "error",
     "traceback": [
      "\u001b[1;31mRunning cells with '.conda (Python 3.10.16)' requires the ipykernel package.\n",
      "\u001b[1;31mRun the following command to install 'ipykernel' into the Python environment. \n",
      "\u001b[1;31mCommand: 'conda install -p c:\\Users\\wajiz.pk\\Desktop\\AI intern Task\\.conda ipykernel --update-deps --force-reinstall'"
     ]
    }
   ],
   "source": [
    "!pip install ipykernel"
   ]
  },
  {
   "cell_type": "code",
   "execution_count": null,
   "metadata": {},
   "outputs": [
    {
     "ename": "",
     "evalue": "",
     "output_type": "error",
     "traceback": [
      "\u001b[1;31mRunning cells with '.conda (Python 3.10.16)' requires the ipykernel package.\n",
      "\u001b[1;31mRun the following command to install 'ipykernel' into the Python environment. \n",
      "\u001b[1;31mCommand: 'conda install -p c:\\Users\\wajiz.pk\\Desktop\\AI intern Task\\.conda ipykernel --update-deps --force-reinstall'"
     ]
    }
   ],
   "source": [
    "!pip install -r requirements.txt\n"
   ]
  },
  {
   "cell_type": "markdown",
   "metadata": {},
   "source": [
    "Load spaCy and Preprocess FAQs"
   ]
  },
  {
   "cell_type": "code",
   "execution_count": 5,
   "metadata": {},
   "outputs": [
    {
     "ename": "PydanticImportError",
     "evalue": "`pydantic:ConstrainedStr` has been removed in V2.\n\nFor further information visit https://errors.pydantic.dev/2.10/u/import-error",
     "output_type": "error",
     "traceback": [
      "\u001b[1;31m---------------------------------------------------------------------------\u001b[0m",
      "\u001b[1;31mPydanticImportError\u001b[0m                       Traceback (most recent call last)",
      "Cell \u001b[1;32mIn[5], line 1\u001b[0m\n\u001b[1;32m----> 1\u001b[0m \u001b[38;5;28;01mimport\u001b[39;00m \u001b[38;5;21;01mspacy\u001b[39;00m\n\u001b[0;32m      2\u001b[0m \u001b[38;5;28;01mimport\u001b[39;00m \u001b[38;5;21;01mjson\u001b[39;00m\n\u001b[0;32m      4\u001b[0m \u001b[38;5;66;03m# Load spaCy model\u001b[39;00m\n",
      "File \u001b[1;32mc:\\Users\\wajiz.pk\\anaconda3\\envs\\py310\\lib\\site-packages\\spacy\\__init__.py:14\u001b[0m\n\u001b[0;32m     11\u001b[0m \u001b[38;5;28;01mfrom\u001b[39;00m \u001b[38;5;21;01mthinc\u001b[39;00m\u001b[38;5;21;01m.\u001b[39;00m\u001b[38;5;21;01mapi\u001b[39;00m \u001b[38;5;28;01mimport\u001b[39;00m prefer_gpu, require_gpu, require_cpu  \u001b[38;5;66;03m# noqa: F401\u001b[39;00m\n\u001b[0;32m     12\u001b[0m \u001b[38;5;28;01mfrom\u001b[39;00m \u001b[38;5;21;01mthinc\u001b[39;00m\u001b[38;5;21;01m.\u001b[39;00m\u001b[38;5;21;01mapi\u001b[39;00m \u001b[38;5;28;01mimport\u001b[39;00m Config\n\u001b[1;32m---> 14\u001b[0m \u001b[38;5;28;01mfrom\u001b[39;00m \u001b[38;5;21;01m.\u001b[39;00m \u001b[38;5;28;01mimport\u001b[39;00m pipeline  \u001b[38;5;66;03m# noqa: F401\u001b[39;00m\n\u001b[0;32m     15\u001b[0m \u001b[38;5;28;01mfrom\u001b[39;00m \u001b[38;5;21;01m.\u001b[39;00m\u001b[38;5;21;01mcli\u001b[39;00m\u001b[38;5;21;01m.\u001b[39;00m\u001b[38;5;21;01minfo\u001b[39;00m \u001b[38;5;28;01mimport\u001b[39;00m info  \u001b[38;5;66;03m# noqa: F401\u001b[39;00m\n\u001b[0;32m     16\u001b[0m \u001b[38;5;28;01mfrom\u001b[39;00m \u001b[38;5;21;01m.\u001b[39;00m\u001b[38;5;21;01mglossary\u001b[39;00m \u001b[38;5;28;01mimport\u001b[39;00m explain  \u001b[38;5;66;03m# noqa: F401\u001b[39;00m\n",
      "File \u001b[1;32mc:\\Users\\wajiz.pk\\anaconda3\\envs\\py310\\lib\\site-packages\\spacy\\pipeline\\__init__.py:1\u001b[0m\n\u001b[1;32m----> 1\u001b[0m \u001b[38;5;28;01mfrom\u001b[39;00m \u001b[38;5;21;01m.\u001b[39;00m\u001b[38;5;21;01mattributeruler\u001b[39;00m \u001b[38;5;28;01mimport\u001b[39;00m AttributeRuler\n\u001b[0;32m      2\u001b[0m \u001b[38;5;28;01mfrom\u001b[39;00m \u001b[38;5;21;01m.\u001b[39;00m\u001b[38;5;21;01mdep_parser\u001b[39;00m \u001b[38;5;28;01mimport\u001b[39;00m DependencyParser\n\u001b[0;32m      3\u001b[0m \u001b[38;5;28;01mfrom\u001b[39;00m \u001b[38;5;21;01m.\u001b[39;00m\u001b[38;5;21;01medit_tree_lemmatizer\u001b[39;00m \u001b[38;5;28;01mimport\u001b[39;00m EditTreeLemmatizer\n",
      "File \u001b[1;32mc:\\Users\\wajiz.pk\\anaconda3\\envs\\py310\\lib\\site-packages\\spacy\\pipeline\\attributeruler.py:6\u001b[0m\n\u001b[0;32m      3\u001b[0m \u001b[38;5;28;01mimport\u001b[39;00m \u001b[38;5;21;01msrsly\u001b[39;00m\n\u001b[0;32m      4\u001b[0m \u001b[38;5;28;01mfrom\u001b[39;00m \u001b[38;5;21;01mpathlib\u001b[39;00m \u001b[38;5;28;01mimport\u001b[39;00m Path\n\u001b[1;32m----> 6\u001b[0m \u001b[38;5;28;01mfrom\u001b[39;00m \u001b[38;5;21;01m.\u001b[39;00m\u001b[38;5;21;01mpipe\u001b[39;00m \u001b[38;5;28;01mimport\u001b[39;00m Pipe\n\u001b[0;32m      7\u001b[0m \u001b[38;5;28;01mfrom\u001b[39;00m \u001b[38;5;21;01m.\u001b[39;00m\u001b[38;5;21;01m.\u001b[39;00m\u001b[38;5;21;01merrors\u001b[39;00m \u001b[38;5;28;01mimport\u001b[39;00m Errors\n\u001b[0;32m      8\u001b[0m \u001b[38;5;28;01mfrom\u001b[39;00m \u001b[38;5;21;01m.\u001b[39;00m\u001b[38;5;21;01m.\u001b[39;00m\u001b[38;5;21;01mtraining\u001b[39;00m \u001b[38;5;28;01mimport\u001b[39;00m Example\n",
      "File \u001b[1;32mc:\\Users\\wajiz.pk\\anaconda3\\envs\\py310\\lib\\site-packages\\spacy\\pipeline\\pipe.pyx:1\u001b[0m, in \u001b[0;36minit spacy.pipeline.pipe\u001b[1;34m()\u001b[0m\n",
      "File \u001b[1;32mc:\\Users\\wajiz.pk\\anaconda3\\envs\\py310\\lib\\site-packages\\spacy\\vocab.pyx:1\u001b[0m, in \u001b[0;36minit spacy.vocab\u001b[1;34m()\u001b[0m\n",
      "File \u001b[1;32mc:\\Users\\wajiz.pk\\anaconda3\\envs\\py310\\lib\\site-packages\\spacy\\tokens\\__init__.py:1\u001b[0m\n\u001b[1;32m----> 1\u001b[0m \u001b[38;5;28;01mfrom\u001b[39;00m \u001b[38;5;21;01m.\u001b[39;00m\u001b[38;5;21;01mdoc\u001b[39;00m \u001b[38;5;28;01mimport\u001b[39;00m Doc\n\u001b[0;32m      2\u001b[0m \u001b[38;5;28;01mfrom\u001b[39;00m \u001b[38;5;21;01m.\u001b[39;00m\u001b[38;5;21;01mtoken\u001b[39;00m \u001b[38;5;28;01mimport\u001b[39;00m Token\n\u001b[0;32m      3\u001b[0m \u001b[38;5;28;01mfrom\u001b[39;00m \u001b[38;5;21;01m.\u001b[39;00m\u001b[38;5;21;01mspan\u001b[39;00m \u001b[38;5;28;01mimport\u001b[39;00m Span\n",
      "File \u001b[1;32mc:\\Users\\wajiz.pk\\anaconda3\\envs\\py310\\lib\\site-packages\\spacy\\tokens\\doc.pyx:36\u001b[0m, in \u001b[0;36minit spacy.tokens.doc\u001b[1;34m()\u001b[0m\n",
      "File \u001b[1;32mc:\\Users\\wajiz.pk\\anaconda3\\envs\\py310\\lib\\site-packages\\spacy\\schemas.py:6\u001b[0m\n\u001b[0;32m      4\u001b[0m \u001b[38;5;28;01mfrom\u001b[39;00m \u001b[38;5;21;01menum\u001b[39;00m \u001b[38;5;28;01mimport\u001b[39;00m Enum\n\u001b[0;32m      5\u001b[0m \u001b[38;5;28;01mfrom\u001b[39;00m \u001b[38;5;21;01mpydantic\u001b[39;00m \u001b[38;5;28;01mimport\u001b[39;00m BaseModel, Field, ValidationError, validator, create_model\n\u001b[1;32m----> 6\u001b[0m \u001b[38;5;28;01mfrom\u001b[39;00m \u001b[38;5;21;01mpydantic\u001b[39;00m \u001b[38;5;28;01mimport\u001b[39;00m StrictStr, StrictInt, StrictFloat, StrictBool, ConstrainedStr\n\u001b[0;32m      7\u001b[0m \u001b[38;5;28;01mfrom\u001b[39;00m \u001b[38;5;21;01mpydantic\u001b[39;00m\u001b[38;5;21;01m.\u001b[39;00m\u001b[38;5;21;01mmain\u001b[39;00m \u001b[38;5;28;01mimport\u001b[39;00m ModelMetaclass\n\u001b[0;32m      8\u001b[0m \u001b[38;5;28;01mfrom\u001b[39;00m \u001b[38;5;21;01mthinc\u001b[39;00m\u001b[38;5;21;01m.\u001b[39;00m\u001b[38;5;21;01mapi\u001b[39;00m \u001b[38;5;28;01mimport\u001b[39;00m Optimizer, ConfigValidationError, Model\n",
      "File \u001b[1;32mc:\\Users\\wajiz.pk\\anaconda3\\envs\\py310\\lib\\site-packages\\pydantic\\__init__.py:412\u001b[0m, in \u001b[0;36m__getattr__\u001b[1;34m(attr_name)\u001b[0m\n\u001b[0;32m    410\u001b[0m dynamic_attr \u001b[38;5;241m=\u001b[39m _dynamic_imports\u001b[38;5;241m.\u001b[39mget(attr_name)\n\u001b[0;32m    411\u001b[0m \u001b[38;5;28;01mif\u001b[39;00m dynamic_attr \u001b[38;5;129;01mis\u001b[39;00m \u001b[38;5;28;01mNone\u001b[39;00m:\n\u001b[1;32m--> 412\u001b[0m     \u001b[38;5;28;01mreturn\u001b[39;00m \u001b[43m_getattr_migration\u001b[49m\u001b[43m(\u001b[49m\u001b[43mattr_name\u001b[49m\u001b[43m)\u001b[49m\n\u001b[0;32m    414\u001b[0m package, module_name \u001b[38;5;241m=\u001b[39m dynamic_attr\n\u001b[0;32m    416\u001b[0m \u001b[38;5;28;01mif\u001b[39;00m module_name \u001b[38;5;241m==\u001b[39m \u001b[38;5;124m'\u001b[39m\u001b[38;5;124m__module__\u001b[39m\u001b[38;5;124m'\u001b[39m:\n",
      "File \u001b[1;32mc:\\Users\\wajiz.pk\\anaconda3\\envs\\py310\\lib\\site-packages\\pydantic\\_migration.py:302\u001b[0m, in \u001b[0;36mgetattr_migration.<locals>.wrapper\u001b[1;34m(name)\u001b[0m\n\u001b[0;32m    296\u001b[0m     \u001b[38;5;28;01mraise\u001b[39;00m PydanticImportError(\n\u001b[0;32m    297\u001b[0m         \u001b[38;5;124m'\u001b[39m\u001b[38;5;124m`BaseSettings` has been moved to the `pydantic-settings` package. \u001b[39m\u001b[38;5;124m'\u001b[39m\n\u001b[0;32m    298\u001b[0m         \u001b[38;5;124mf\u001b[39m\u001b[38;5;124m'\u001b[39m\u001b[38;5;124mSee https://docs.pydantic.dev/\u001b[39m\u001b[38;5;132;01m{\u001b[39;00mversion_short()\u001b[38;5;132;01m}\u001b[39;00m\u001b[38;5;124m/migration/#basesettings-has-moved-to-pydantic-settings \u001b[39m\u001b[38;5;124m'\u001b[39m\n\u001b[0;32m    299\u001b[0m         \u001b[38;5;124m'\u001b[39m\u001b[38;5;124mfor more details.\u001b[39m\u001b[38;5;124m'\u001b[39m\n\u001b[0;32m    300\u001b[0m     )\n\u001b[0;32m    301\u001b[0m \u001b[38;5;28;01mif\u001b[39;00m import_path \u001b[38;5;129;01min\u001b[39;00m REMOVED_IN_V2:\n\u001b[1;32m--> 302\u001b[0m     \u001b[38;5;28;01mraise\u001b[39;00m PydanticImportError(\u001b[38;5;124mf\u001b[39m\u001b[38;5;124m'\u001b[39m\u001b[38;5;124m`\u001b[39m\u001b[38;5;132;01m{\u001b[39;00mimport_path\u001b[38;5;132;01m}\u001b[39;00m\u001b[38;5;124m` has been removed in V2.\u001b[39m\u001b[38;5;124m'\u001b[39m)\n\u001b[0;32m    303\u001b[0m \u001b[38;5;28mglobals\u001b[39m: Dict[\u001b[38;5;28mstr\u001b[39m, Any] \u001b[38;5;241m=\u001b[39m sys\u001b[38;5;241m.\u001b[39mmodules[module]\u001b[38;5;241m.\u001b[39m\u001b[38;5;18m__dict__\u001b[39m\n\u001b[0;32m    304\u001b[0m \u001b[38;5;28;01mif\u001b[39;00m name \u001b[38;5;129;01min\u001b[39;00m \u001b[38;5;28mglobals\u001b[39m:\n",
      "\u001b[1;31mPydanticImportError\u001b[0m: `pydantic:ConstrainedStr` has been removed in V2.\n\nFor further information visit https://errors.pydantic.dev/2.10/u/import-error"
     ]
    }
   ],
   "source": [
    "import spacy\n",
    "import json\n",
    "\n",
    "# Load spaCy model\n",
    "nlp = spacy.load(\"en_core_web_md\")  # Use a medium model for better accuracy\n",
    "\n",
    "# Load FAQs\n",
    "with open(\"faqs.json\", \"r\") as f:\n",
    "    faqs = json.load(f)\n",
    "\n",
    "# Preprocess FAQs for semantic similarity\n",
    "def preprocess_faqs(faqs):\n",
    "    return [(faq['question'], nlp(faq['question'])) for faq in faqs]\n",
    "\n",
    "faq_data = preprocess_faqs(faqs)\n"
   ]
  },
  {
   "cell_type": "markdown",
   "metadata": {},
   "source": [
    "Create a Function for Matching Questions"
   ]
  },
  {
   "cell_type": "code",
   "execution_count": 10,
   "metadata": {},
   "outputs": [],
   "source": [
    "def get_best_match(user_query, faq_data, threshold=0.7):\n",
    "    query_doc = nlp(user_query)\n",
    "    best_match = None\n",
    "    best_score = 0\n",
    "\n",
    "    for question, question_doc in faq_data:\n",
    "        similarity = query_doc.similarity(question_doc)\n",
    "        if similarity > best_score:\n",
    "            best_match = question\n",
    "            best_score = similarity\n",
    "\n",
    "    if best_score > threshold:\n",
    "        return best_match\n",
    "    else:\n",
    "        return \"Sorry, I couldn't find an answer to your question.\"\n"
   ]
  },
  {
   "cell_type": "markdown",
   "metadata": {},
   "source": [
    "Integrate with gradio for a Simple Web Chatbot"
   ]
  },
  {
   "cell_type": "code",
   "execution_count": 17,
   "metadata": {},
   "outputs": [
    {
     "name": "stderr",
     "output_type": "stream",
     "text": [
      "\n",
      "KeyboardInterrupt\n",
      "\n"
     ]
    }
   ],
   "source": [
    "import json\n",
    "from difflib import get_close_matches\n",
    "import gradio as gr\n",
    "\n",
    "# Load FAQs from the JSON file\n",
    "try:\n",
    "    with open(\"faqs.json\", \"r\") as f:\n",
    "        faq_data = json.load(f)\n",
    "except Exception as e:\n",
    "    faq_data = []\n",
    "    print(f\"Error loading FAQs: {e}\")\n",
    "\n",
    "# Function to find the best matching question\n",
    "def get_best_match(user_input, faq_data):\n",
    "    questions = [faq[\"question\"] for faq in faq_data]\n",
    "    matches = get_close_matches(user_input, questions, n=1, cutoff=0.6)\n",
    "    return matches[0] if matches else None\n",
    "\n",
    "# Chatbot function\n",
    "def chatbot(user_input):\n",
    "    if not user_input.strip():\n",
    "        return \"Please ask a question!\"\n",
    "    \n",
    "    best_question = get_best_match(user_input, faq_data)\n",
    "    if best_question:\n",
    "        for faq in faq_data:\n",
    "            if faq[\"question\"] == best_question:\n",
    "                return faq[\"answer\"]\n",
    "    return \"Sorry, I couldn't find an answer to your question.\"\n",
    "\n",
    "# Gradio interface\n",
    "iface = gr.Interface(\n",
    "    fn=chatbot,\n",
    "    inputs=gr.Textbox(label=\"Ask a question\"),\n",
    "    outputs=gr.Textbox(label=\"Answer\"),\n",
    "    title=\"FAQ Chatbot\",\n",
    "    description=\"This chatbot answers FAQs about popular smartphones in 2025 in Pakistan. Type your question below!\",\n",
    ")\n",
    "\n",
    "# Launch the Gradio interface\n",
    "if __name__ == \"__main__\":\n",
    "    iface.launch()\n"
   ]
  }
 ],
 "metadata": {
  "kernelspec": {
   "display_name": "Python 3",
   "language": "python",
   "name": "python3"
  },
  "language_info": {
   "codemirror_mode": {
    "name": "ipython",
    "version": 3
   },
   "file_extension": ".py",
   "mimetype": "text/x-python",
   "name": "python",
   "nbconvert_exporter": "python",
   "pygments_lexer": "ipython3",
   "version": "3.10.16"
  }
 },
 "nbformat": 4,
 "nbformat_minor": 2
}
